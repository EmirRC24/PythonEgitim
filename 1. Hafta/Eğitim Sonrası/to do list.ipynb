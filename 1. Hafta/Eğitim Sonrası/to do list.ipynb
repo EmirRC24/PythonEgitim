{
 "cells": [
  {
   "cell_type": "code",
   "execution_count": 1,
   "metadata": {},
   "outputs": [
    {
     "name": "stdout",
     "output_type": "stream",
     "text": [
      "\n",
      "To-Do List Uygulaması\n",
      "1. Görevi Ekle\n",
      "2. Görevleri Göster\n",
      "3. Görev Sil\n",
      "4. Çıkış\n"
     ]
    }
   ],
   "source": [
    "to_do_list = []\n",
    "\n",
    "def add_task(to_do_list):\n",
    "    task = input(\"Yapılacak Görevi Giriniz: \")\n",
    "    to_do_list.append(task)\n",
    "    print(\"Görev Başarıyla Eklendi\")\n",
    "\n",
    "def show_tasks(to_do_list):\n",
    "    print(\"Yapılacak Görevler: \")\n",
    "    for task in to_do_list:\n",
    "        print(\"-\" + task)\n",
    "\n",
    "def delete_task(to_do_list):\n",
    "    task = input(\"Silmek İstediğiniz Görevi Girin: \")\n",
    "    if task in to_do_list:\n",
    "        to_do_list.remove(task)\n",
    "        print(\"Görev Silindi.\")\n",
    "    else:\n",
    "        print(\"Görev Bulunamadı.\")\n",
    "\n",
    "while True:\n",
    "    print(\"\\nTo-Do List Uygulaması\")\n",
    "    print(\"1. Görevi Ekle\")\n",
    "    print(\"2. Görevleri Göster\")\n",
    "    print(\"3. Görev Sil\")\n",
    "    print(\"4. Çıkış\")\n",
    "    choice = input(\"Seçiminiz (1/2/3/4): \")\n",
    "\n",
    "    if choice == \"1\":\n",
    "        add_task(to_do_list)\n",
    "    elif choice == \"2\":\n",
    "        show_tasks(to_do_list)\n",
    "    elif choice == \"3\":\n",
    "        delete_task(to_do_list)\n",
    "    elif choice == \"4\":\n",
    "        print(\"Uygulamadan Çıkılıyor...\")\n",
    "        break\n",
    "    else:\n",
    "        print(\"Geçersiz seçim. Lütfen tekrar deneyin.\")"
   ]
  }
 ],
 "metadata": {
  "kernelspec": {
   "display_name": "Python 3",
   "language": "python",
   "name": "python3"
  },
  "language_info": {
   "codemirror_mode": {
    "name": "ipython",
    "version": 3
   },
   "file_extension": ".py",
   "mimetype": "text/x-python",
   "name": "python",
   "nbconvert_exporter": "python",
   "pygments_lexer": "ipython3",
   "version": "3.12.3"
  }
 },
 "nbformat": 4,
 "nbformat_minor": 2
}

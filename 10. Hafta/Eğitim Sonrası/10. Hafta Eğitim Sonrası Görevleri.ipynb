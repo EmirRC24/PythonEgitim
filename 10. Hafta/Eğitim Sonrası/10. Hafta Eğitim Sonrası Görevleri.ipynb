{
 "cells": [
  {
   "attachments": {},
   "cell_type": "markdown",
   "metadata": {},
   "source": [
    "# Problem 1 "
   ]
  },
  {
   "cell_type": "code",
   "execution_count": null,
   "metadata": {},
   "outputs": [],
   "source": [
    "# 1 - numpy kütüphanesini import edin\n",
    "import numpy as np\n",
    "# 2 - 5 elemanlı bir numpy array oluşturun\n",
    "dizi = np.array([12, 3, 45, 7, 18])\n",
    "print(\"Oluşturulan array:\", dizi)\n",
    "# 3 - Oluşturduğunuz arrayi küçükten büyüğe sıralayın.\n",
    "sirali_dizi = np.sort(dizi)\n",
    "print(\"Küçükten büyüğe sıralanmış array:\", sirali_dizi)"
   ]
  },
  {
   "attachments": {},
   "cell_type": "markdown",
   "metadata": {},
   "source": [
    "# Problem 2"
   ]
  },
  {
   "cell_type": "code",
   "execution_count": null,
   "metadata": {},
   "outputs": [],
   "source": [
    "import numpy as np\n",
    "# 1- (10,15,30,45,60) değerlerine sahip numpy dizisi oluşturunuz.\n",
    "dizi1 = np.array([10, 15, 30, 45, 60])\n",
    "print(\"Dizi 1:\", dizi1)\n",
    "\n",
    "# 2- (5-15) arasındaki sayılarla numpy dizisi oluşturunuz.\n",
    " dizi2 = np.arange(5, 16)\n",
    "print(\"Dizi 2:\", dizi2)\n",
    "# 3- (50-100) arasında 5'er 5'er artarak numpy dizisi oluşturunuz.\n",
    "dizi3 = np.arange(50, 101, 5)\n",
    "print(\"Dizi 3:\", dizi3)\n",
    "\n",
    "# 4- 10 elemanlı sıfırlardan oluşan bir dizi oluşturunuz.\n",
    "dizi4 = np.zeros(10)\n",
    "print(\"Dizi 4:\", dizi4)\n",
    "\n",
    "# 5- 10 elemanlı birlerden oluşan bir dizi oluşturunuz.\n",
    "dizi5 = np.ones(10)\n",
    "print(\"Dizi 5:\", dizi5)\n",
    "\n",
    "\n",
    "# 6- (0-100) arasında eşit aralıklı 5 sayı üretin.\n",
    "dizi6 = np.linspace(0, 100, 5)\n",
    "print(\"Dizi 6:\", dizi6)\n",
    "\n",
    "# 7- (10-30) arasında rastgele 5 tane tamsayı üretin.\n",
    "dizi7 = np.random.randint(10, 31, 5)\n",
    "print(\"Dizi 7:\", dizi7)\n",
    "\n",
    "# 8- [-1 ile 1] arasında 10 adet sayı üretin.\n",
    "dizi8 = np.linspace(-1, 1, 10)\n",
    "print(\"Dizi 8:\", dizi8)\n",
    "\n",
    "# 9- (3x5) boyutlarında (10-50) arasında rastgele bir matris oluşturunuz.\n",
    "matris9 = np.random.randint(10, 51, (3, 5))\n",
    "print(\"Matris 9:\\n\", matris9)\n",
    "\n",
    "# 10- Üretilen matrisin satır ve sütun sayıları toplamlarını hesaplayınız ?\n",
    "satir_toplam = matris9.sum(axis=1)\n",
    "sutun_toplam = matris9.sum(axis=0)\n",
    "print(\"Satır toplamları:\", satir_toplam)\n",
    "print(\"Sütun toplamları:\", sutun_toplam)\n",
    "\n",
    "# 11- Üretilen matrisin en büyük, en küçük ve ortalaması nedir ?\n",
    "en_buyuk = matris9.max()\n",
    "en_kucuk = matris9.min()\n",
    "ortalama = matris9.mean()\n",
    "print(\"En büyük değer:\", en_buyuk)\n",
    "print(\"En küçük değer:\", en_kucuk)\n",
    "print(\"Ortalama:\", ortalama)\n",
    "\n",
    "# 12- Üretilen matrisin en büyük değerinin indeksi kaçtır ?\n",
    "en_buyuk_indeks = np.unravel_index(matris9.argmax(), matris9.shape)\n",
    "print(\"En büyük değerin indeksi:\", en_buyuk_indeks)\n",
    "\n",
    "# 13- (10-20) arasındaki sayıları içeren dizinin ilk 3 elemanını seçiniz.\n",
    "dizi13 = np.arange(10, 21)\n",
    "ilk_uc_eleman = dizi13[:3]\n",
    "print(\"İlk 3 eleman:\", ilk_uc_eleman)\n",
    "\n",
    "# 14- Üretilen dizinin elemanlarını tersten yazdırın.\n",
    "ters_dizi13 = dizi13[::-1]\n",
    "print(\"Ters dizi:\", ters_dizi13)\n",
    "\n",
    "# 15- Üretilen matrisin ilk satırını seçiniz.\n",
    "ilk_satir = matris9[0]\n",
    "print(\"İlk satır:\", ilk_satir)\n",
    "\n",
    "# 16- Üretilen matrisin 2.satır 3.sütundaki elemanı hangisidir ?\n",
    "eleman_16 = matris9[1, 2]\n",
    "print(\"2. satır 3. sütundaki eleman:\", eleman_16)\n",
    "\n",
    "# 17- Üretilen matrisin tüm satırlardaki ilk elemanı seçiniz.\n",
    "ilk_elemanlar = matris9[:, 0]\n",
    "print(\"Tüm satırların ilk elemanı:\", ilk_elemanlar)\n",
    "\n",
    "# 18- Üretilen matrisin her bir elemanının karesini alınız.\n",
    "kareler = matris9 ** 2\n",
    "print(\"Matris elemanlarının kareleri:\\n\", kareler)\n",
    "\n",
    "# 19- Üretilen matris elemanlarının hangisi pozitif çift sayıdır ? Aralığı (-50,+50) arasında yapınız.\n",
    "matris19 = np.random.randint(-50, 51, (3, 5))\n",
    "pozitif_ciftler = matris19[(matris19 > 0) & (matris19 % 2 == 0)]\n",
    "print(\"Matris 19:\\n\", matris19)\n",
    "print(\"Pozitif çift sayılar:\", pozitif_ciftler)"
   ]
  }
 ],
 "metadata": {
  "kernelspec": {
   "display_name": "Python 3",
   "language": "python",
   "name": "python3"
  },
  "language_info": {
   "name": "python",
   "version": "3.10.5 (tags/v3.10.5:f377153, Jun  6 2022, 16:14:13) [MSC v.1929 64 bit (AMD64)]"
  },
  "orig_nbformat": 4,
  "vscode": {
   "interpreter": {
    "hash": "5026d2d6e7aaaaba093def813beadff083d8733e4a511af01735cbabd156995d"
   }
  }
 },
 "nbformat": 4,
 "nbformat_minor": 2
}

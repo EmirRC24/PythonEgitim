{
 "cells": [
  {
   "attachments": {},
   "cell_type": "markdown",
   "metadata": {},
   "source": [
    "# Problem 1"
   ]
  },
  {
   "cell_type": "code",
   "execution_count": null,
   "metadata": {},
   "outputs": [
    {
     "ename": "",
     "evalue": "",
     "output_type": "error",
     "traceback": [
      "\u001b[1;31mThe Kernel crashed while executing code in the current cell or a previous cell. \n",
      "\u001b[1;31mPlease review the code in the cell(s) to identify a possible cause of the failure. \n",
      "\u001b[1;31mClick <a href='https://aka.ms/vscodeJupyterKernelCrash'>here</a> for more info. \n",
      "\u001b[1;31mView Jupyter <a href='command:jupyter.viewOutput'>log</a> for further details."
     ]
    }
   ],
   "source": [
    "# 1 - numpy kütüphanesini import edin\n",
    "import numpy as np\n",
    "# 2 - 0 ile 10 arasında 5 sayıdan oluşan matris üretin\n",
    "matris = np.random.randint(0, 10, 5)\n",
    "print(\"Matris:\", matris)\n",
    "# 3 - matris'in boyutunu öğrenin\n",
    "matris_boyut = matris.shape\n",
    "print(\"Matris'in boyutu:\", matris_boyut)\n",
    "# 4 - matris'i yeniden boyutlandırın\n",
    "yeniden_boyutlandirilmis_matris = matris.reshape(5, 1)\n",
    "print(\"Yeniden boyutlandırılmış matris:\\n\", yeniden_boyutlandirilmis_matris)\n",
    "# 5 - matris'in boyut sayısını öğrenin\n",
    "boyut_sayisi = yeniden_boyutlandirilmis_matris.ndim\n",
    "print(\"Matris'in boyut sayısı:\", boyut_sayisi)"
   ]
  },
  {
   "attachments": {},
   "cell_type": "markdown",
   "metadata": {},
   "source": [
    "# Problem 2"
   ]
  },
  {
   "cell_type": "code",
   "execution_count": null,
   "metadata": {},
   "outputs": [],
   "source": [
    "import numpy as np\n",
    "# 1 - 0 ile 10 arasında bulunan tek sayılardan oluşan matris üretin\n",
    "tek_sayilar = np.arange(1, 10, 2)\n",
    "print(\"Tek sayılardan oluşan matris:\", tek_sayilar)\n",
    "# 2 - Oluşturduğunuz matrisi parçalayın\n",
    "parca1, parca2 = np.array_split(tek_sayilar, 2)\n",
    "print(\"Parça 1:\", parca1)\n",
    "print(\"Parça 2:\", parca2)\n",
    "# 3 - Parçalanmış matrisleri birleştirin\n",
    "birlesmis_matris = np.concatenate((parca1, parca2))\n",
    "print(\"Birleşmiş matris:\", birlesmis_matris)"
   ]
  },
  {
   "attachments": {},
   "cell_type": "markdown",
   "metadata": {},
   "source": [
    "# Problem 3"
   ]
  },
  {
   "cell_type": "code",
   "execution_count": null,
   "metadata": {},
   "outputs": [],
   "source": [
    "import numpy as np\n",
    "# 1 - 5 ile 100 arasında ikişer ikişer atlayarak rastgele 10 sayıdan oluşan matris üretin\n",
    "sayilar = np.arange(5, 100, 2)\n",
    "rastgele_sayilar = np.random.choice(sayilar, 10, replace=False)\n",
    "print(\"Rastgele 10 sayıdan oluşan matris:\", rastgele_sayilar)\n",
    "# 2 - matris'in özelliklerini inceleyin\n",
    "boyut = rastgele_sayilar.shape\n",
    "print(\"Matrisin boyutu:\", boyut)\n",
    "\n",
    "boyut_sayisi = rastgele_sayilar.ndim\n",
    "print(\"Matrisin boyut sayısı:\", boyut_sayisi)\n",
    "\n",
    "veri_tipi = rastgele_sayilar.dtype\n",
    "print(\"Matrisin veri tipi:\", veri_tipi)\n",
    "\n",
    "eleman_sayisi = rastgele_sayilar.size\n",
    "print(\"Matrisin toplam eleman sayısı:\", eleman_sayisi)\n",
    "\n",
    "ortalama = rastgele_sayilar.mean\n",
    "print(\"Matrisin ortalaması:\", ortalama)\n",
    "\n",
    "toplam = rastgele_sayilar.sum()\n",
    "print(\"Matrisin toplamı:\", toplam)"
   ]
  }
 ],
 "metadata": {
  "kernelspec": {
   "display_name": "Python 3",
   "language": "python",
   "name": "python3"
  },
  "language_info": {
   "codemirror_mode": {
    "name": "ipython",
    "version": 3
   },
   "file_extension": ".py",
   "mimetype": "text/x-python",
   "name": "python",
   "nbconvert_exporter": "python",
   "pygments_lexer": "ipython3",
   "version": "3.12.3"
  },
  "orig_nbformat": 4,
  "vscode": {
   "interpreter": {
    "hash": "5026d2d6e7aaaaba093def813beadff083d8733e4a511af01735cbabd156995d"
   }
  }
 },
 "nbformat": 4,
 "nbformat_minor": 2
}

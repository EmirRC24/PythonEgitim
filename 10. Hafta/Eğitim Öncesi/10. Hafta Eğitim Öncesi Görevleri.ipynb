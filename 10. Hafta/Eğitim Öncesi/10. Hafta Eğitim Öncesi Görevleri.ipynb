{
 "cells": [
  {
   "attachments": {},
   "cell_type": "markdown",
   "metadata": {},
   "source": [
    "# Problem 1"
   ]
  },
  {
   "cell_type": "code",
   "execution_count": 1,
   "metadata": {},
   "outputs": [
    {
     "ename": "ModuleNotFoundError",
     "evalue": "No module named 'numpy'",
     "output_type": "error",
     "traceback": [
      "\u001b[1;31m---------------------------------------------------------------------------\u001b[0m",
      "\u001b[1;31mModuleNotFoundError\u001b[0m                       Traceback (most recent call last)",
      "Cell \u001b[1;32mIn[1], line 2\u001b[0m\n\u001b[0;32m      1\u001b[0m \u001b[38;5;66;03m# 1 - numpy kütüphanesini import edin\u001b[39;00m\n\u001b[1;32m----> 2\u001b[0m \u001b[38;5;28;01mimport\u001b[39;00m \u001b[38;5;21;01mnumpy\u001b[39;00m \u001b[38;5;28;01mas\u001b[39;00m \u001b[38;5;21;01mnp\u001b[39;00m\n\u001b[0;32m      3\u001b[0m \u001b[38;5;66;03m# 2 - 0 ile 10 arasında 5 sayıdan oluşan matris üretin\u001b[39;00m\n\u001b[0;32m      4\u001b[0m matris \u001b[38;5;241m=\u001b[39m np\u001b[38;5;241m.\u001b[39mrandom\u001b[38;5;241m.\u001b[39mrandint(\u001b[38;5;241m0\u001b[39m, \u001b[38;5;241m10\u001b[39m, \u001b[38;5;241m5\u001b[39m)\n",
      "\u001b[1;31mModuleNotFoundError\u001b[0m: No module named 'numpy'"
     ]
    }
   ],
   "source": [
    "# 1 - numpy kütüphanesini import edin\n",
    "import numpy as np\n",
    "# 2 - 0 ile 10 arasında 5 sayıdan oluşan matris üretin\n",
    "matris = np.random.randint(0, 10, 5)\n",
    "print(\"Matris:\", matris)\n",
    "# 3 - matris'in boyutunu öğrenin\n",
    "matris_boyut = matris.shape\n",
    "print(\"Matris'in boyutu:\", matris_boyut)\n",
    "# 4 - matris'i yeniden boyutlandırın\n",
    "yeniden_boyutlandirilmis_matris = matris.reshape(5, 1)\n",
    "print(\"Yeniden boyutlandırılmış matris:\\n\", yeniden_boyutlandirilmis_matris)\n",
    "# 5 - matris'in boyut sayısını öğrenin\n",
    "boyut_sayisi = yeniden_boyutlandirilmis_matris.ndim\n",
    "print(\"Matris'in boyut sayısı:\", boyut_sayisi)"
   ]
  },
  {
   "attachments": {},
   "cell_type": "markdown",
   "metadata": {},
   "source": [
    "# Problem 2"
   ]
  },
  {
   "cell_type": "code",
   "execution_count": null,
   "metadata": {},
   "outputs": [],
   "source": [
    "import numpy as np\n",
    "# 1 - 0 ile 10 arasında bulunan tek sayılardan oluşan matris üretin\n",
    "tek_sayilar = np.arange(1, 10, 2)\n",
    "print(\"Tek sayılardan oluşan matris:\", tek_sayilar)\n",
    "# 2 - Oluşturduğunuz matrisi parçalayın\n",
    "parca1, parca2 = np.array_split(tek_sayilar, 2)\n",
    "print(\"Parça 1:\", parca1)\n",
    "print(\"Parça 2:\", parca2)\n",
    "# 3 - Parçalanmış matrisleri birleştirin\n",
    "birlesmis_matris = np.concatenate((parca1, parca2))\n",
    "print(\"Birleşmiş matris:\", birlesmis_matris)"
   ]
  },
  {
   "attachments": {},
   "cell_type": "markdown",
   "metadata": {},
   "source": [
    "# Problem 3"
   ]
  },
  {
   "cell_type": "code",
   "execution_count": null,
   "metadata": {},
   "outputs": [],
   "source": [
    "import numpy as np\n",
    "# 1 - 5 ile 100 arasında ikişer ikişer atlayarak rastgele 10 sayıdan oluşan matris üretin\n",
    "sayilar = np.arange(5, 100, 2)\n",
    "rastgele_sayilar = np.random.choice(sayilar, 10, replace=False)\n",
    "print(\"Rastgele 10 sayıdan oluşan matris:\", rastgele_sayilar)\n",
    "# 2 - matris'in özelliklerini inceleyin\n",
    "boyut = rastgele_sayilar.shape\n",
    "print(\"Matrisin boyutu:\", boyut)\n",
    "\n",
    "boyut_sayisi = rastgele_sayilar.ndim\n",
    "print(\"Matrisin boyut sayısı:\", boyut_sayisi)\n",
    "\n",
    "veri_tipi = rastgele_sayilar.dtype\n",
    "print(\"Matrisin veri tipi:\", veri_tipi)\n",
    "\n",
    "eleman_sayisi = rastgele_sayilar.size\n",
    "print(\"Matrisin toplam eleman sayısı:\", eleman_sayisi)\n",
    "\n",
    "ortalama = rastgele_sayilar.mean\n",
    "print(\"Matrisin ortalaması:\", ortalama)\n",
    "\n",
    "toplam = rastgele_sayilar.sum()\n",
    "print(\"Matrisin toplamı:\", toplam)"
   ]
  }
 ],
 "metadata": {
  "kernelspec": {
   "display_name": "Python 3",
   "language": "python",
   "name": "python3"
  },
  "language_info": {
   "codemirror_mode": {
    "name": "ipython",
    "version": 3
   },
   "file_extension": ".py",
   "mimetype": "text/x-python",
   "name": "python",
   "nbconvert_exporter": "python",
   "pygments_lexer": "ipython3",
   "version": "3.12.3"
  },
  "orig_nbformat": 4,
  "vscode": {
   "interpreter": {
    "hash": "5026d2d6e7aaaaba093def813beadff083d8733e4a511af01735cbabd156995d"
   }
  }
 },
 "nbformat": 4,
 "nbformat_minor": 2
}

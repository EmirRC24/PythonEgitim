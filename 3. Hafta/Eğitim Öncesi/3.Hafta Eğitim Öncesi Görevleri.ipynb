{
 "cells": [
  {
   "cell_type": "markdown",
   "metadata": {
    "id": "tsD4YVAe_Te2"
   },
   "source": [
    "# Problem 1\n",
    "Bir sayının 7'ye bölünebilir olup olmadığını kontrol etmek \n",
    "için bir program yazın.\n",
    "\n",
    "İpucu: Mod operatörünü (%) kullanabilirsiniz."
   ]
  },
  {
   "cell_type": "code",
   "execution_count": 2,
   "metadata": {
    "id": "NGjvNwKx_Te7"
   },
   "source": [
    "# 1.Problemin Çözümünü Buraya Yazınız\n",
    "sayi = int(input(\"Bir sayı girin: \"))\n",
    "\n",
    "if sayi % 7 == 0:\n",
    "    print(f\"{sayi} sayısı 7'ye tam bölünebilir.\")\n",
    "else:\n",
    "    print(f\"{sayi} sayısı 7'ye tam bölünemez.\")\n"
   ],
   "outputs": []
  },
  {
   "cell_type": "markdown",
   "metadata": {
    "id": "Kg3qiBAI_Te8"
   },
   "source": [
    "# Problem 2\n",
    "Kullanıcıdan vize ve final notu isteyin. Girilen vize notunun %40’ı ve \n",
    "girilen finalnotunun ise %60’ı alınarak yıl sonu not ortalaması hesaplanacaktır. \n",
    "\n",
    "Bu not ortalaması eğer 85 ve üzeri ise AA, \n",
    "\n",
    "75 ve 85 arasında ise BA, \n",
    "\n",
    "70 ve 75 arasında ise BB, \n",
    "\n",
    "65 ve 70 arasında ise CB,\n",
    "\n",
    "60 ve 65 arasında ise CC,\n",
    "\n",
    "55 ve 60 arasında ise DC,\n",
    "\n",
    "50 ve 55 arasında ise DD olarak hesaplanacaktır. \n",
    "\n",
    "Bu öğrencinin yıl sonu toplam notu 50’nin altında ise FF ile dersten kalacaktır. \n",
    "\n",
    "Ayrıca öğrencinin final notu 50’nin altında ise direkt FF ile kalacaktır."
   ]
  },
  {
   "cell_type": "code",
   "execution_count": 6,
   "metadata": {
    "id": "MXTtCxI1_Te8"
   },
   "source": [
    "# 2.Problemin Çözümünü Buraya Yazınız\n",
    "vizeNotu = float(input(\"Vize notunuzu girin: \"))\n",
    "finalNotu = float(input(\"Final notunuzu girin: \"))\n",
    "\n",
    "ortalama = (vizeNotu * 0.40) + (finalNotu * 0.60)\n",
    "\n",
    "if finalNotu < 50:\n",
    "    harf_notu = \"FF\"\n",
    "elif ortalama >= 85:\n",
    "    harf_notu = \"AA\"\n",
    "elif ortalama >= 75:\n",
    "    harf_notu = \"BA\"\n",
    "elif ortalama >= 70:\n",
    "    harf_notu = \"BB\"\n",
    "elif ortalama >= 65:\n",
    "    harf_notu = \"CB\"\n",
    "elif ortalama >= 60:\n",
    "    harf_notu = \"CC\"\n",
    "elif ortalama >= 55:\n",
    "    harf_notu = \"DC\"\n",
    "elif ortalama >= 50:\n",
    "    harf_notu = \"DD\"\n",
    "else:\n",
    "    harf_notu = \"FF\"\n",
    "\n",
    "print(f\"Yıl sonu not ortalamanız: {ortalama:.2f}\")\n",
    "print(f\"Harf notunuz: {harf_notu}\")\n"
   ],
   "outputs": []
  },
  {
   "cell_type": "markdown",
   "metadata": {
    "id": "tAoRYCTC_Te8"
   },
   "source": [
    "# Problem 3\n",
    "İki YetGenli Zirve'de karşılaşıyorlar. Birbirlerini tanımak için sorular soruyorlar. Birbirlerine yaşlarını soruyorlar. Akıllarına bir Python programı yazıp, yaşlarını ve isimlerini giriyorlar. Büyük olanın yaşını ekrana yazdıran programı yazıyorlar. Sende bu iki YetGenli'ye destek olmak ister misin?\n",
    "\n",
    "```\n",
    "Birinci YetGenlinin ismi: Ahmet\n",
    "Birinci YetGenlinin yaşı : 20\n",
    "İkinci YetGenlinin ismi: Mehmet\n",
    "İkinci YetGenlinin yaşı : 25\n",
    "Mehmet'in yaşı daha büyük ve yaşı 25'tir.\n",
    "```"
   ]
  },
  {
   "cell_type": "code",
   "execution_count": 1,
   "metadata": {
    "id": "bPjE8W0i_Te8"
   },
   "source": [
    "# 3.Problemin Çözümünü Buraya Yazınız\n",
    "birinciİsim = input(\"Birinci YetGenlinin ismini giriniz: \")\n",
    "birinci_yas = int(input(\"Birinci YetGenlinin yaşını giriniz: \"))\n",
    "\n",
    "ikinciİsim = input(\"İkinci YetGenlinin ismini giriniz: \")\n",
    "ikinci_yas = int(input(\"İkinci YetGenlinin yaşını giriniz: \"))\n",
    "\n",
    "if birinci_yas > ikinci_yas:\n",
    "    print(f\"{birinciİsim}'in yaşı daha büyük ve yaşı {birinci_yas}'tir.\")\n",
    "elif ikinci_yas > birinci_yas:\n",
    "    print(f\"{ikinciİsim}'in yaşı daha büyük ve yaşı {ikinci_yas}'tir.\")\n",
    "else:\n",
    "    print(f\"Her iki YetGenli de aynı yaşta ve yaşları {birinci_yas}'tir.\")\n"
   ],
   "outputs": []
  },
  {
   "cell_type": "markdown",
   "metadata": {
    "id": "zBVv8Tyg_Te9"
   },
   "source": [
    "# Problem 4\n",
    "Pandemi döneminde AVM'lerde ateş ölçümü yapılıyor. AVM'ye giren kişinin ateş ölçümü 37.5 derecenin altında ise girişe izin veriliyor. 37.5 derecenin üstünde ise girişe izin verilmiyor. AVM'ye girişe izin verilip verilmediğini ekrana yazdıran bir program yazın.\n",
    "\n",
    "Program sonunda şöyle bir çıktı elde etmelisiniz:\n",
    "\n",
    "```\n",
    "Ateşiniz 37.5 derece. AVM'ye girebilirsin! Maske takmayı unutma!\n",
    "Ateşiniz 37.6 derece. AVM'ye giremezsin! Hemen evine dön!\n",
    "```"
   ]
  },
  {
   "cell_type": "code",
   "execution_count": 10,
   "metadata": {
    "id": "TSAXs8et_Te9"
   },
   "source": [
    "# 4.Problemin Çözümünü Buraya Yazınız\n",
    "ates = float(input(\"Ateşinizi girin: \"))\n",
    "\n",
    "if ates <= 37.5:\n",
    "    print(f\"Ateşiniz {ates} derece. AVM'ye girebilirsin! Maske takmayı unutma!\")\n",
    "else:\n",
    "    print(f\"Ateşiniz {ates} derece. AVM'ye giremezsin! Hemen evine dön!\")\n"
   ],
   "outputs": []
  },
  {
   "cell_type": "markdown",
   "metadata": {
    "id": "6AEkZrDt_Te9"
   },
   "source": [
    "# Problem 5\n",
    "YetGen bir spor kulübüyle sponsorluk anlaşması yapıyor. Kulüp, sponsorluk anlaşmasına göre her YetGen liderinin beden kitle indeksini hesaplamak istiyor. Spor kulübü, beden kitle indeksini hesaplamak için YetGen Jump Python liderlerinden Berkcan ve Ahmet'i arıyor. Berkcan ve Ahmet, kulübe yardımcı olmak için bir Python programı yazıyorlar. Sende bu iki YetGen liderine destek olmak ister misin?\n",
    "\n",
    "Kullanıcıdan alınan boy ve kilo değerlerine göre beden kitle indeksini hesaplayın ve şu kurallara göre ekrana şu yazıları yazdırın.\n",
    "\n",
    "\n",
    "Beden Kitle İndeksi, kişinin ağırlığının (kg olarak) boyunun karesine (m olarak) bölünmesiyle hesaplanır.\n",
    "\n",
    "\n",
    "```\n",
    " BKİ 18.5'un altındaysa -------> Zayıf\n",
    "\n",
    " BKİ 18.5 ile 25 arasındaysa ------> Normal\n",
    "\n",
    " BKİ 25 ile 30 arasındaysa --------> Fazla Kilolu\n",
    "\n",
    " BKİ 30'un üstündeyse -------------> Obez\n",
    "```\n",
    "\n"
   ]
  },
  {
   "cell_type": "code",
   "execution_count": 14,
   "metadata": {
    "id": "t-XPI_u0_Te-"
   },
   "source": [
    "# 5.Problemin Çözümünü Buraya Yazınız\n",
    "boy = float(input(\"Boyunuzu metre cinsinden girin(Örnek: 1.85): \"))\n",
    "kilo = float(input(\"Kilonuzu kilogram cinsinden girin: \"))\n",
    "\n",
    "bki = kilo / (boy ** 2)\n",
    "\n",
    "if bki < 18.5:\n",
    "    durum = \"Zayıf\"\n",
    "elif 18.5 <= bki < 25:\n",
    "    durum = \"Normal\"\n",
    "elif 25 <= bki < 30:\n",
    "    durum = \"Fazla Kilolu\"\n",
    "else:\n",
    "    durum = \"Obez\"\n",
    "\n",
    "print(f\"Beden Kitle İndeksiniz (BKİ): {bki:.2f}\")\n",
    "print(f\"Durumunuz: {durum}\")\n"
   ],
   "outputs": []
  },
  {
   "cell_type": "markdown",
   "metadata": {
    "id": "oFsvQyaO_Te-"
   },
   "source": [
    "# Problem 6\n",
    "Kullanıcıdan isim, yaş ve eğitim bilgilerini isteyip ehliyet alabilme  durumunu kontrol ediniz. \n",
    "\n",
    "Ehliyet alma koşulu en az 18 yaşında ve eğitim durumu lise ya da üniversite olmalıdır. "
   ]
  },
  {
   "cell_type": "code",
   "execution_count": 15,
   "metadata": {
    "id": "Tu2mcgco_Te-"
   },
   "source": [
    "# 6.Problemin Çözümünü Buraya Yazınız\n",
    "isim = input(\"İsminizi girin: \")\n",
    "yas = int(input(\"Yaşınızı girin: \"))\n",
    "egitim = input(\"Eğitim durumunuzu girin (lise/üniversite): \").lower()\n",
    "\n",
    "if yas >= 18 and (egitim == \"lise\" or egitim == \"üniversite\"):\n",
    "    print(f\"{isim}, ehliyet alabilirsiniz.\")\n",
    "else:\n",
    "    print(f\"{isim}, ehliyet alamazsınız.\")\n",
    "\n",
    "\n"
   ],
   "outputs": []
  },
  {
   "cell_type": "markdown",
   "metadata": {
    "id": "eUkxVSAE_Te_"
   },
   "source": [
    "# Problem 7\n",
    "Bir yılın artık yıl olup olmadığını kontrol etmek için bir program yazın. \n",
    "Artık yıl kuralı:\n",
    "\n",
    "a) Eğer yılın son iki basamağı (00) ile bitmiyor ve yalnızca 4'e tam bölünüyorsa artık yıldır. Ya da, \n",
    "\n",
    "b) Eğer yıl 400'e tam bölünüyorsa artık yıldır.\n",
    "\n",
    "**Örneğin**\n",
    "```\n",
    "2017 artık yıl değildir.\n",
    "1900 artık yıl değildir\n",
    "2012 artık yıldır.\n",
    "2000 artık yıldır.\n",
    "```"
   ]
  },
  {
   "cell_type": "code",
   "execution_count": 16,
   "metadata": {
    "id": "4uWh8qUL_Te_"
   },
   "source": [
    "# 7.Problemin Çözümünü Buraya Yazınız\n",
    "yil = int(input(\"Bir yıl girin: \"))\n",
    "\n",
    "if (yil % 4 == 0 and yil % 100 != 0) or (yil % 400 == 0):\n",
    "    print(f\"{yil} artık yıldır.\")\n",
    "else:\n",
    "    print(f\"{yil} artık yıl değildir.\")\n"
   ],
   "outputs": []
  }
 ],
 "metadata": {
  "colab": {
   "provenance": []
  },
  "kernelspec": {
   "display_name": "Python 3.10.5 64-bit",
   "language": "python",
   "name": "python3"
  },
  "language_info": {
   "codemirror_mode": {
    "name": "ipython",
    "version": 3
   },
   "file_extension": ".py",
   "mimetype": "text/x-python",
   "name": "python",
   "nbconvert_exporter": "python",
   "pygments_lexer": "ipython3",
   "version": "3.12.3"
  },
  "orig_nbformat": 4,
  "vscode": {
   "interpreter": {
    "hash": "5026d2d6e7aaaaba093def813beadff083d8733e4a511af01735cbabd156995d"
   }
  }
 },
 "nbformat": 4,
 "nbformat_minor": 0
}

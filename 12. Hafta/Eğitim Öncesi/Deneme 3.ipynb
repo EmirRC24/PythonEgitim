{
 "cells": [
  {
   "cell_type": "code",
   "id": "initial_id",
   "metadata": {
    "collapsed": true,
    "ExecuteTime": {
     "end_time": "2024-08-10T13:06:11.986124Z",
     "start_time": "2024-08-10T13:06:11.976704Z"
    }
   },
   "source": [
    "import folium\n",
    "\n",
    "harita = folium.Map(location=(41,29), tiles=\"Cartodb dark_matter\")\n",
    "\n",
    "harita.add_child(folium.Marker(location=(41,29), icon=folium.Icon(color=\"red\"), popup=\"Istanbul\"))\n",
    "\n",
    "harita.save(\"Deneme.html\")"
   ],
   "execution_count": 2,
   "outputs": []
  },
  {
   "metadata": {},
   "cell_type": "code",
   "execution_count": null,
   "source": [
    "import folium\n",
    "\n",
    "harita = folium.Map(location=(41,29), tiles=\"Cartodb dark_matter\")\n",
    "\n",
    "harita.add_child(folium.Marker(location=(41,29), icon=folium.Icon(color=\"red\"), popup=\"Istanbul\"))\n",
    "\n",
    "harita.save(\"Deneme.html\")"
   ],
   "id": "3549566384fdb3d7",
   "outputs": []
  },
  {
   "metadata": {},
   "cell_type": "code",
   "execution_count": null,
   "source": "",
   "id": "812487491da26c2",
   "outputs": []
  }
 ],
 "metadata": {
  "kernelspec": {
   "display_name": "Python 3",
   "language": "python",
   "name": "python3"
  },
  "language_info": {
   "codemirror_mode": {
    "name": "ipython",
    "version": 2
   },
   "file_extension": ".py",
   "mimetype": "text/x-python",
   "name": "python",
   "nbconvert_exporter": "python",
   "pygments_lexer": "ipython2",
   "version": "2.7.6"
  }
 },
 "nbformat": 4,
 "nbformat_minor": 5
}

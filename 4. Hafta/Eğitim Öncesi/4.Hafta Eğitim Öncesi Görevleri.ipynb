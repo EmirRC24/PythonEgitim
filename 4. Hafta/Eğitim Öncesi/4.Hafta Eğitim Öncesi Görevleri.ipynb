{
 "cells": [
  {
   "cell_type": "markdown",
   "metadata": {
    "id": "-My6RWLrhXIq"
   },
   "source": [
    "# Problem 1\n",
    "Sözlükleri kullanarak bir telefon rehberi yazın. Bu rehberde kullanıcıya kimin telefonunu görüntülemek istediğini sorun ve kullanıcının girdiği isme göre o kişinin telefon numarasını yazdırın. Proje sonunda elde edeceğiniz çıktı  şuna benzer olmalı:\n",
    "\n",
    "\n",
    "Lütfen numarasını öğrenmek istediğiniz kişinin adını girin: Ahmet\n",
    "\n",
    "Ahmet isimli kişinin numarası şu şekildedir: 0532 678 13 19"
   ]
  },
  {
   "cell_type": "code",
   "execution_count": 1,
   "metadata": {
    "id": "LHIQEhchhXIu"
   },
   "source": [
    "# 1.Problemin Çözümünü Buraya Yazınız\n",
    "# Telefon rehberi veritabanı\n",
    "telefon_rehberi = {\n",
    "    \"Ahmet\": \"0532 678 13 19\",\n",
    "    \"Ayşe\": \"0568 146 45 67\",\n",
    "    \"Mehmet\": \"0505 987 65 43\",\n",
    "    \"Fatma\": \"0548 456 78 90\",\n",
    "    \"Ali\": \"0542 209 33 44\"\n",
    "}\n",
    "\n",
    "kullanici_ismi = input(\"Lütfen numarasını öğrenmek istediğiniz kişinin adını giriniz: \")\n",
    "\n",
    "if kullanici_ismi in telefon_rehberi:\n",
    "    print(f\"{kullanici_ismi} isimli kişinin numarası şu şekildedir: {telefon_rehberi[kullanici_ismi]}\")\n",
    "else:\n",
    "    print(f\"{kullanici_ismi} isimli kişi rehberde bulunamadı.\")\n"
   ],
   "outputs": []
  },
  {
   "cell_type": "markdown",
   "metadata": {
    "id": "rlgfjEi7hXIv"
   },
   "source": [
    "# Problem 2\n",
    "Sözlükleri kullanarak bir şirket çalışanları indeksi oluşturun. Bu isim indeksinde kişilerin isimleri key, kişilerin  memleket, yaş ve görev bilgileri value olmalıdır. Burada kullanacağımız value değerleri liste olmalıdır.\n",
    "\n",
    "\n",
    "Daha sonra bir isim sorgulama ekranı gibi kullanıcıya kimin bilgilerini görüntülemek istediğini \n",
    "sorun ve sorgulanan kişinin ekranda gösterilmesini sağlayın. Proje sonunda elde edeceğiniz çıktı şu şekilde olmalı:\n",
    "\n",
    "\n",
    "Lütfen bilgilerini görüntülemek istediğiniz çalışanın ismini girin: Mehmet Yağız\n",
    "\n",
    "Mehmet Yağız= Memleket: Adana Yaş: 40 Görev: Direktör"
   ]
  },
  {
   "cell_type": "code",
   "execution_count": 2,
   "metadata": {
    "id": "O09zrrs0hXIv"
   },
   "source": [
    "# 2.Problemin Çözümünü Buraya Yazınız\n",
    "calisanlar = {\n",
    "    \"Mehmet Yağız\": [\"Adana\", 40, \"Direktör\"],\n",
    "    \"Ayşe Yavuz\": [\"İstanbul\", 30, \"Mühendis\"],\n",
    "    \"Ali Demirel\": [\"Ankara\", 35, \"Muhasebeci\"],\n",
    "    \"Fatma Gülsen\": [\"İzmir\", 25, \"Doktor\"],\n",
    "    \"Ahmet Değirmenci\": [\"Bursa\", 45, \"Genel Müdür\"]\n",
    "}\n",
    "\n",
    "kullanici_ismi = input(\"Lütfen bilgilerini görüntülemek istediğiniz çalışanın ismini girin: \")\n",
    "\n",
    "if kullanici_ismi in calisanlar:\n",
    "    memleket, yas, gorev = calisanlar[kullanici_ismi]\n",
    "    print(f\"{kullanici_ismi} = Memleket: {memleket} Yaş: {yas} Görev: {gorev}\")\n",
    "else:\n",
    "    print(f\"{kullanici_ismi} isimli çalışan bulunamadı.\")\n"
   ],
   "outputs": []
  },
  {
   "cell_type": "markdown",
   "metadata": {
    "id": "G67ztXG-hXIw"
   },
   "source": [
    "# Problem 3\n",
    "\n",
    "3 öğrenciden oluşan bir öğrenci not sözlüğü oluşturun. Bu sözlükte öğrencilerin notları value olarak bir listede toplansın.\n",
    "\n",
    "Kullanıcıya hangi öğrencinin notlarını görmek istediğini sorun. Öğrencinin notu görüntülendiğinde program sonunda şöyle bir çıktı elde etmelisiniz:\n",
    "\n",
    "```\n",
    "Lütfen notlarını görmek istediğiniz öğrencinin adını girin: Mehmet\n",
    "\n",
    "Mehmet isimli öğrencinin      1.Sınav Notu:72\n",
    "                              2.Sınav Notu:66\n",
    "                              3.Sınav Notu:48\n",
    "Not Ortalaması: 62.0\n"
   ]
  },
  {
   "cell_type": "code",
   "execution_count": 3,
   "metadata": {
    "id": "TXQ_fuCHhXIw"
   },
   "source": [
    "# 3.Problemin Çözümünü Buraya Yazınız\n",
    "ogrenci_notlari = {\n",
    "    \"Mehmet\": [72, 66, 48],\n",
    "    \"Ayşe\": [85, 78, 90],\n",
    "    \"Mustafa\": [56, 64, 72]\n",
    "}\n",
    "\n",
    "ogrenci_ismi = input(\"Lütfen notlarını görmek istediğiniz öğrencinin adını girin: \")\n",
    "\n",
    "if ogrenci_ismi in ogrenci_notlari:\n",
    "    notlar = ogrenci_notlari[ogrenci_ismi]\n",
    "    ortalama = sum(notlar) / len(notlar)\n",
    "    \n",
    "    print(f\"{ogrenci_ismi} isimli öğrencinin\")\n",
    "    for i, notu in enumerate(notlar, 1):\n",
    "        print(f\"      {i}.Sınav Notu:{notu}\")\n",
    "    print(f\"Not Ortalaması: {ortalama:.1f}\")\n",
    "else:\n",
    "    print(f\"{ogrenci_ismi} isimli öğrenci bulunamadı.\")\n"
   ],
   "outputs": []
  },
  {
   "cell_type": "markdown",
   "metadata": {
    "id": "oel6A5WFhXIw"
   },
   "source": [
    "# Problem 4"
   ]
  },
  {
   "cell_type": "code",
   "execution_count": 5,
   "metadata": {
    "id": "jVRdspCrhXIx"
   },
   "source": [
    "# 1-  \"Bmw, Mercedes, Opel, Mazda\" elemanlarına sahip bir liste oluşturunuz.\n",
    "arabalar = [\"Bmw\", \"Mercedes\", \"Opel\", \"Mazda\"]\n",
    "# 2-  Liste Kaç elemanlıdır ?\n",
    "print(f\"Liste {len(arabalar)} elemanlıdır.\")\n",
    "# 3-  Listenin ilk ve son elemanı nedir ?\n",
    "print(f\"Listenin ilk elemanı: {arabalar[0]}\")\n",
    "print(f\"Listenin son elemanı: {arabalar[-1]}\")\n",
    "# 4-  Mazda değerini Toyota ile değiştirin.\n",
    "arabalar[3] = \"Toyota\"\n",
    "print(\"Mazda, Toyota ile değiştirildi(Toyataya bin :)):\", arabalar)\n",
    "# 5-  Listenin -2 indeksindeki değer nedir ?\n",
    "print(f\"Listenin -2 indeksindeki değer: {arabalar[-2]}\")\n",
    "# 6-  Listenin ilk 3 elemanını alın.\n",
    "print(f\"Listenin ilk 3 elemanı: {arabalar[:3]}\")\n",
    "# 7-  Listenin son 2 elemanı yerine \"Toyota\" ve \"Renault\" değerlerini ekleyin.\n",
    "arabalar[-2:] = [\"Toyota\", \"Renault\"]\n",
    "print(\"Son 2 eleman değiştirildi:\", arabalar)\n",
    "# 8-  Listenin üzerine \"Audi\" ve \"Nissan\" değerlerini ekleyin.\n",
    "arabalar.extend([\"Audi\", \"Nissan\"])\n",
    "print(\"Listeye Audi ve Nissan eklendi(Audi'ye de binersin :)):\", arabalar)\n",
    "# 9- Listenin son elemanını silin.\n",
    "arabalar.pop()\n",
    "print(\"Listenin son elemanı silindi:\", arabalar)\n",
    "# 10- Liste elemanlarını tersten yazdırınız.\n",
    "print(\"Liste elemanlarının tersi:\", arabalar[::-1])\n",
    "# 11- Aşağıdaki verileri bir liste içinde saklayınız. \n",
    "\n",
    "      # studentA: Yiğit Bilgi 2010, (70,60,70)\n",
    "      # studentB: Sena Turan  1999, (80,80,70)\n",
    "      # studentC: Ahmet Turan 1998, (80,70,90) \n",
    "studentA = [\"Yiğit Bilgi\", 2010, (70, 60, 70)]\n",
    "studentB = [\"Sena Turan\", 1999, (80, 80, 70)]\n",
    "studentC = [\"Ahmet Turan\", 1998, (80, 70, 90)]\n",
    "students = [studentA, studentB, studentC]\n",
    "print(\"Öğrenci listesi:\", students)\n",
    "\n",
    "\n",
    "\n",
    "# 12- Liste elemanlarını ekrana yazdırınız.\n",
    "for student in students:\n",
    "    print(student)\n",
    "\n",
    "\n",
    "  \n",
    "names = ['Ali','Yağmur','Hakan','Deniz']\n",
    "years = [1998, 2000, 1998, 1987]\n",
    "\n",
    "# 13-  \"Cenk\" ismini listenin sonuna ekleyiniz.\n",
    "names.append(\"Cenk\")\n",
    "print(\"Cenk eklendi:\", names)\n",
    "\n",
    "# 14-  \"Sena\" değerini listenin başına ekleyiniz.\n",
    "names.insert(0, \"Sena\")\n",
    "print(\"Sena başa eklendi:\", names)\n",
    "\n",
    "# 15-  \"Deniz\" ismini listeden siliniz.\n",
    "names.remove(\"Deniz\")\n",
    "print(\"Deniz silindi:\", names)\n",
    "\n",
    "# 16-  \"Ali\" listenin bir elemanı mıdır ?\n",
    "print(f\"Ali listenin bir elemanı mı? {'Ali' in names}\")\n",
    "# 17-  Liste elemanlarını ters çevirin.\n",
    "names.reverse()\n",
    "print(\"Liste ters çevrildi:\", names)\n",
    "# 18-  Liste elemanlarını alfabetik olarak sıralayınız.\n",
    "names.sort()\n",
    "print(\"Liste alfabetik olarak sıralandı:\", names)\n",
    "\n",
    "# 19-  years listesini rakamsal büyüklüğe göre sıralayınız.\n",
    "years.sort()\n",
    "print(\"Years listesi sıralandı:\", years)\n",
    "# 20-  str = \"Chevrolet,Dacia\" karakter dizisini listeye çeviriniz.\n",
    "str_arabalar = \"Chevrolet,Dacia\"\n",
    "list_arabalar = str_arabalar.split(',')\n",
    "print(\"Karakter dizisi listeye çevrildi:\", list_arabalar)\n",
    "\n",
    "# 21- years dizisinde kaç tane 1998 değeri vardır ?\n",
    "print(f\"Years listesinde 1998 değeri {years.count(1998)} defa vardır.\")\n",
    "\n",
    "# 22- years dizisinin tüm elemanlarını siliniz.\n",
    "years.clear()\n",
    "print(\"Years listesinin tüm elemanları silindi:\", years)\n",
    "\n",
    "# 23- Kullanıcıdan alacağınız 3 tane marka bilgisini bir listede saklayınız.\n",
    "markalar = []\n",
    "for i in range(3):\n",
    "    marka = input(f\"{i+1}. markayı girin: \")\n",
    "    markalar.append(marka)\n",
    "print(\"Kullanıcıdan alınan markalar:\", markalar)\n"
   ],
   "outputs": []
  }
 ],
 "metadata": {
  "colab": {
   "provenance": []
  },
  "kernelspec": {
   "display_name": "Python 3.10.5 64-bit",
   "language": "python",
   "name": "python3"
  },
  "language_info": {
   "codemirror_mode": {
    "name": "ipython",
    "version": 3
   },
   "file_extension": ".py",
   "mimetype": "text/x-python",
   "name": "python",
   "nbconvert_exporter": "python",
   "pygments_lexer": "ipython3",
   "version": "3.12.3"
  },
  "orig_nbformat": 4,
  "vscode": {
   "interpreter": {
    "hash": "5026d2d6e7aaaaba093def813beadff083d8733e4a511af01735cbabd156995d"
   }
  }
 },
 "nbformat": 4,
 "nbformat_minor": 0
}

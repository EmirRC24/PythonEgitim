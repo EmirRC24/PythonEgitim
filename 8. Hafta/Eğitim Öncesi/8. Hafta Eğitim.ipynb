{
 "cells": [
  {
   "cell_type": "code",
   "execution_count": null,
   "metadata": {},
   "outputs": [],
   "source": [
    "#dosya açmak için open(dosyaIsmı, dosyaModu) kullanılır.\n",
    "#close(): dosyayı kapatır.\n",
    "#r okuma modunda açmayı sağlar."
   ]
  },
  {
   "cell_type": "code",
   "execution_count": 2,
   "metadata": {},
   "outputs": [
    {
     "name": "stdout",
     "output_type": "stream",
     "text": [
      "<_io.TextIOWrapper name='bilgiler.txt' mode='r' encoding='cp1254'>\n"
     ]
    }
   ],
   "source": [
    "f = open(\"bilgiler.txt\")\n",
    "print(f)"
   ]
  },
  {
   "cell_type": "code",
   "execution_count": 14,
   "metadata": {},
   "outputs": [],
   "source": [
    "try:\n",
    "    file = open(\"bilgiler.txt\",\"r\",encoding=\"utf-8\") #utf-8 dosyayı türkçe karakterler ile okumayı sağlar.\n",
    "except:\n",
    "    print(\"Ben bu dosyayı bulamadım.\")"
   ]
  },
  {
   "cell_type": "code",
   "execution_count": null,
   "metadata": {},
   "outputs": [],
   "source": []
  },
  {
   "cell_type": "code",
   "execution_count": 13,
   "metadata": {},
   "outputs": [
    {
     "name": "stdout",
     "output_type": "stream",
     "text": [
      "Python\n",
      "\n",
      "Emir\n",
      "\n",
      "6\n",
      "\n",
      "YetGen\n"
     ]
    }
   ],
   "source": [
    "file = open(\"bilgiler.txt\", \"r\", encoding=\"utf-8\")\n",
    "\n",
    "for i in file:\n",
    "    print(i)               \n",
    "file.close()"
   ]
  },
  {
   "cell_type": "markdown",
   "metadata": {},
   "source": [
    "!!!read() fonksiyonu eğer içine hiçbir değer vermezsek bütün dosyamızı okuyacaktır."
   ]
  },
  {
   "cell_type": "code",
   "execution_count": 12,
   "metadata": {},
   "outputs": [
    {
     "name": "stdout",
     "output_type": "stream",
     "text": [
      "1. okuma dosya içeriği\n",
      "  Python\n",
      "Emir\n",
      "6\n",
      "YetGen\n",
      "2. okuma dosya içeriği\n",
      "  Python\n",
      "Emir\n",
      "6\n",
      "YetGen\n"
     ]
    }
   ],
   "source": [
    "file = open(\"bilgiler.txt\", \"r\", encoding=\"utf-8\")\n",
    "icerik = file.read()\n",
    "print(\"1. okuma dosya içeriği\\n\", icerik, sep=\"  \")\n",
    "icerik2 = file.read()\n",
    "print(\"2. okuma dosya içeriği\\n\", icerik, sep=\"  \")\n",
    "file.close()"
   ]
  },
  {
   "cell_type": "markdown",
   "metadata": {},
   "source": [
    "!!! readline() fonksiyonu her çalıştırıldığında bir satır okur."
   ]
  },
  {
   "cell_type": "code",
   "execution_count": 11,
   "metadata": {},
   "outputs": [
    {
     "name": "stdout",
     "output_type": "stream",
     "text": [
      "Python\n",
      "\n"
     ]
    }
   ],
   "source": [
    "file = open(\"bilgiler.txt\",\"r\",encoding=\"utf-8\")\n",
    "print(file.readline())"
   ]
  },
  {
   "cell_type": "code",
   "execution_count": 16,
   "metadata": {},
   "outputs": [
    {
     "name": "stdout",
     "output_type": "stream",
     "text": [
      "Emir\n",
      "\n"
     ]
    }
   ],
   "source": [
    "print(file.readline())"
   ]
  },
  {
   "cell_type": "code",
   "execution_count": 17,
   "metadata": {},
   "outputs": [
    {
     "name": "stdout",
     "output_type": "stream",
     "text": [
      "6\n",
      "\n"
     ]
    }
   ],
   "source": [
    "print(file.readline())"
   ]
  },
  {
   "cell_type": "markdown",
   "metadata": {},
   "source": [
    "!!! readlines() fonksiyonu dosyanın bütün satırlarını bir liste şeklinde döner."
   ]
  },
  {
   "cell_type": "code",
   "execution_count": 18,
   "metadata": {},
   "outputs": [
    {
     "name": "stdout",
     "output_type": "stream",
     "text": [
      "['Python\\n', 'Emir\\n', '6\\n', 'YetGen']\n"
     ]
    }
   ],
   "source": [
    "file = open(\"bilgiler.txt\",\"r\",encoding=\"utf-8\")\n",
    "print(file.readlines())"
   ]
  },
  {
   "cell_type": "code",
   "execution_count": 20,
   "metadata": {},
   "outputs": [],
   "source": [
    "file.close()"
   ]
  },
  {
   "cell_type": "markdown",
   "metadata": {},
   "source": [
    "# Dosya Yazma\n",
    "\n",
    "w: yazma modu. Dosyayı konumda oluşturur. Eğer dosya mevcut ise, dosyayı siler ve yeni bir dosya oluşturur."
   ]
  },
  {
   "cell_type": "code",
   "execution_count": 23,
   "metadata": {},
   "outputs": [],
   "source": [
    "file = open(\"bilgiler.txt\",\"w\",encoding=\"utf-8\")\n",
    "file.write(\"YetGen\\n\")\n",
    "file.close()"
   ]
  },
  {
   "cell_type": "markdown",
   "metadata": {},
   "source": [
    "*a: append(ekleme)* modudur. Dosya konumda varsa oluşturur, dosya konumunda varsa ekleme işlemi yapar.\n",
    "\n",
    "*r+ :* hem okuma hem yazma modudur. Dosya konumda yoksa hata verir.\n"
   ]
  },
  {
   "cell_type": "code",
   "execution_count": 24,
   "metadata": {},
   "outputs": [],
   "source": [
    "file = open(\"bilgiler.txt\",\"a\",encoding=\"utf-8\")\n",
    "file.write(\"Jump\\n\")\n",
    "file.close()"
   ]
  },
  {
   "cell_type": "code",
   "execution_count": 27,
   "metadata": {},
   "outputs": [],
   "source": [
    "file = open(\"bilgiler.txt\",\"r+\",encoding=\"utf-8\")\n",
    "file.write(\"Python\\n\")\n",
    "file.write(\"Jump\\n\")\n",
    "file.read()\n",
    "file.close()\n"
   ]
  },
  {
   "cell_type": "markdown",
   "metadata": {},
   "source": [
    "# Dosyaları Otomatik Kapatma\n",
    "\n",
    "with open(dosya_adı, dosya_kipi) as file:\n",
    "    Dosya işlemleri"
   ]
  },
  {
   "cell_type": "code",
   "execution_count": 28,
   "metadata": {},
   "outputs": [
    {
     "name": "stdout",
     "output_type": "stream",
     "text": [
      "Python\n",
      "\n",
      "Jump\n",
      "\n"
     ]
    }
   ],
   "source": [
    "with open(\"bilgiler.txt\", \"r\", encoding=\"utf-8\") as file:\n",
    "    for i in file:\n",
    "        print(i)"
   ]
  },
  {
   "cell_type": "markdown",
   "metadata": {},
   "source": [
    "# Dosyaları İleri-Geri Sarmak\n",
    "\n",
    "- seek() metodunu kullanarak istediğimiz bayt konumuna dönebilirsiniz.\n",
    "- Dosyanın hangi bayt konumunda bulunduğunu öğrenmek isterseniz de tell() metodunu kullanabilirsiniz."
   ]
  },
  {
   "cell_type": "code",
   "execution_count": 29,
   "metadata": {},
   "outputs": [
    {
     "name": "stdout",
     "output_type": "stream",
     "text": [
      "20\n"
     ]
    }
   ],
   "source": [
    "with open(\"bilgiler.txt\",\"r\",encoding=\"utf-8\") as file:\n",
    "    file.seek(20)\n",
    "    print(file.tell())"
   ]
  },
  {
   "cell_type": "code",
   "execution_count": 30,
   "metadata": {},
   "outputs": [
    {
     "name": "stdout",
     "output_type": "stream",
     "text": [
      "n\n",
      "Jump\n",
      "\n",
      "Python\n"
     ]
    }
   ],
   "source": [
    "with open(\"bilgiler.txt\",\"r\",encoding=\"utf-8\") as file:\n",
    "    file.seek(5)\n",
    "    icerik = file.read(10)\n",
    "    print(icerik)\n",
    "    file.seek(0)\n",
    "    icerik2 = file.read(6)\n",
    "    print(icerik2)"
   ]
  },
  {
   "cell_type": "markdown",
   "metadata": {},
   "source": [
    "# Dosyanın Sonunda Değişiklik Yapmak"
   ]
  },
  {
   "cell_type": "code",
   "execution_count": 31,
   "metadata": {},
   "outputs": [],
   "source": [
    "with open(\"bilgiler.txt\",\"r+\",encoding=\"utf-8\") as file:\n",
    "    file.seek(10)\n",
    "    file.write(\"Deneme\")"
   ]
  },
  {
   "cell_type": "code",
   "execution_count": 32,
   "metadata": {},
   "outputs": [
    {
     "name": "stdout",
     "output_type": "stream",
     "text": [
      "Python\n",
      "JuDeneme\n"
     ]
    }
   ],
   "source": [
    "with open(\"bilgiler.txt\",\"r+\",encoding=\"utf-8\") as file:\n",
    "    print(file.read())"
   ]
  },
  {
   "cell_type": "markdown",
   "metadata": {},
   "source": [
    "# Dosyanın Başında Değişiklik Yapmak"
   ]
  },
  {
   "cell_type": "code",
   "execution_count": 33,
   "metadata": {},
   "outputs": [],
   "source": [
    "with open(\"bilgiler.txt\",\"r+\",encoding=\"utf-8\") as file:\n",
    "    icerik = file.read()\n",
    "    icerik = \"Deneme\\n\" + icerik\n",
    "    file.seek(0)\n",
    "    file.write(icerik)"
   ]
  },
  {
   "cell_type": "code",
   "execution_count": 35,
   "metadata": {},
   "outputs": [
    {
     "name": "stdout",
     "output_type": "stream",
     "text": [
      "Deneme\n",
      "Python\n",
      "JuDeneme\n"
     ]
    }
   ],
   "source": [
    "with open(\"bilgiler.txt\",\"r+\",encoding=\"utf-8\") as file:\n",
    "    print(file.read())"
   ]
  },
  {
   "cell_type": "markdown",
   "metadata": {},
   "source": [
    "# Dosyanın Ortasında Değişiklik Yapmak"
   ]
  },
  {
   "cell_type": "code",
   "execution_count": 36,
   "metadata": {},
   "outputs": [],
   "source": [
    "with open(\"bilgiler.txt\",\"r+\",encoding=\"utf-8\") as file:\n",
    "    liste = file.readlines()\n",
    "    liste.insert(3,\"deneme\\n\")\n",
    "    file.seek(0)\n",
    "    file.writelines(liste)"
   ]
  },
  {
   "cell_type": "code",
   "execution_count": 37,
   "metadata": {},
   "outputs": [
    {
     "name": "stdout",
     "output_type": "stream",
     "text": [
      "Deneme\n",
      "Python\n",
      "JuDenemedeneme\n",
      "\n"
     ]
    }
   ],
   "source": [
    "with open(\"bilgiler.txt\",\"r+\",encoding=\"utf-8\") as file:\n",
    "    icerik = file.read()\n",
    "    print(icerik)"
   ]
  },
  {
   "cell_type": "markdown",
   "metadata": {},
   "source": [
    "# Nesne Yönelimli Programlama(00P)\n",
    "- DRY(Don't Repeat Yourself) - Kendini Tekrar Etme"
   ]
  },
  {
   "cell_type": "markdown",
   "metadata": {},
   "source": [
    "# Class\n",
    "\n",
    "Sınıflar veya Classlar objelerimizi oluştururken objelerin özelliklerini ve metodlarını tanımladığımız bir yapıdır."
   ]
  },
  {
   "cell_type": "code",
   "execution_count": 1,
   "metadata": {},
   "outputs": [],
   "source": [
    "class Araba():\n",
    "    #Sınıf Özellikleri(Attribute)\n",
    "    model = \"Toyota Corolla\"\n",
    "    renk = \"Gri\"\n",
    "    beygirGucu = 130\n",
    "    silindir = 6"
   ]
  },
  {
   "cell_type": "markdown",
   "metadata": {},
   "source": [
    "Obje Oluşturma \n",
    "\n",
    "obje_ismi = Sınıf_İsmi(parametreler(opsiyonel))\n",
    "\n",
    "Özelliklere Erişme\n",
    "\n",
    "obje_ismi.özellik_ismi\n",
    "\n"
   ]
  },
  {
   "cell_type": "code",
   "execution_count": 2,
   "metadata": {},
   "outputs": [
    {
     "name": "stdout",
     "output_type": "stream",
     "text": [
      "Toyota Corolla\n",
      "Gri\n",
      "130\n",
      "6\n"
     ]
    }
   ],
   "source": [
    "araba1 = Araba()\n",
    "print(araba1.model)\n",
    "print(araba1.renk)\n",
    "print(araba1.beygirGucu)\n",
    "print(araba1.silindir)"
   ]
  },
  {
   "cell_type": "code",
   "execution_count": 3,
   "metadata": {},
   "outputs": [
    {
     "name": "stdout",
     "output_type": "stream",
     "text": [
      "Kuş\n"
     ]
    }
   ],
   "source": [
    "class Animal : \n",
    "    name = \"Kuş\"\n",
    "    print(name)"
   ]
  },
  {
   "cell_type": "markdown",
   "metadata": {},
   "source": [
    "# init()\n",
    "\n",
    "Pythonda yapıcı(constructor) fonksiyon olarak tanımlanmaktadır. Bu metod objelerimiz oluşturulurken otomatik olarak ilk çağırılan fonksiyondur. Bu metodu özel olarak tanımlayarak objelerimizi farklı değerlerle oluşturabiliriz."
   ]
  },
  {
   "cell_type": "code",
   "execution_count": 4,
   "metadata": {},
   "outputs": [
    {
     "name": "stdout",
     "output_type": "stream",
     "text": [
      "İnit Fonksiyonu Çalıştı.\n"
     ]
    }
   ],
   "source": [
    "class Araba() :\n",
    "    def __init__(self):\n",
    "        print(\"İnit Fonksiyonu Çalıştı.\")\n",
    "\n",
    "araba = Araba()"
   ]
  },
  {
   "cell_type": "markdown",
   "metadata": {},
   "source": [
    "- self anahtar kelimesi objeyi oluşturduğumuz zaman o objeyi gösteren bir referanstır ve metodlarımızda en başta bulunması gereken bir parametredir."
   ]
  },
  {
   "cell_type": "code",
   "execution_count": 1,
   "metadata": {},
   "outputs": [],
   "source": [
    "class Araba():\n",
    "    def __init__(self,model,renk,beygir,silindir):\n",
    "        self.model = model\n",
    "        self.renk = renk\n",
    "        self.beygir = beygir\n",
    "        self.silindir = silindir"
   ]
  },
  {
   "cell_type": "code",
   "execution_count": 7,
   "metadata": {},
   "outputs": [
    {
     "name": "stdout",
     "output_type": "stream",
     "text": [
      "Peugeot 301\n"
     ]
    }
   ],
   "source": [
    "araba2 = Araba(\"Peugeot 301\", \"Beyaz\", 100, 4)\n",
    "print(araba2.model)"
   ]
  },
  {
   "cell_type": "markdown",
   "metadata": {},
   "source": [
    "# Uygulama\n",
    "\n",
    "- Comment isminde bir sınıf oluşturunuz.\n",
    "- Comment sınıfı username, text, likes, dislikes isminde özelliklere sahip olsun.\n",
    "- 5 adet farklı comment oluşturup döngü yardımıyla yorumları ekrana yazdırınız."
   ]
  },
  {
   "cell_type": "code",
   "execution_count": 16,
   "metadata": {},
   "outputs": [
    {
     "name": "stdout",
     "output_type": "stream",
     "text": [
      "Emir : Python Öğreniyorum yorumunu yapıp 250 beğeni aldı. 1 dislike aldı.\n",
      "Ahmet : Jumperlar çok güzel çalışıyor. yorumunu yapıp 50 beğeni aldı. 10 dislike aldı.\n",
      "Mustafa : Bu seneki Jumoerlar çok başarılı. yorumunu yapıp 100 beğeni aldı. 5 dislike aldı.\n",
      "Eslem : Liderler ekibi bir harika. yorumunu yapıp 50 beğeni aldı. 1 dislike aldı.\n",
      "Jumper : Liderlerimiz bizim için çok çalışıyor. yorumunu yapıp 200 beğeni aldı. 100 dislike aldı.\n"
     ]
    }
   ],
   "source": [
    "class Comment():\n",
    "    def __init__ (self, username, text, likes, dislikes):\n",
    "        self.username = username\n",
    "        self.text = text \n",
    "        self.likes = likes\n",
    "        self.dislikes = dislikes\n",
    "\n",
    "c1 = Comment(\"Emir\", \"Python Öğreniyorum\",250,1)\n",
    "c2 = Comment(\"Ahmet\", \"Jumperlar çok güzel çalışıyor.\", 50, 10)\n",
    "c3 = Comment(\"Mustafa\", \"Bu seneki Jumoerlar çok başarılı.\", 100, 5)\n",
    "c4 = Comment(\"Eslem\", \"Liderler ekibi bir harika.\", 50, 1)\n",
    "c5 = Comment(\"Jumper\", \"Liderlerimiz bizim için çok çalışıyor.\", 200,100)\n",
    "\n",
    "comments = [c1,c2,c3,c4,c5]\n",
    "\n",
    "for c in comments:\n",
    "    print(f\"{c.username} : {c.text} yorumunu yapıp {c.likes} beğeni aldı. {c.dislikes} dislike aldı.\")\n",
    "\n"
   ]
  }
 ],
 "metadata": {
  "kernelspec": {
   "display_name": "Python 3",
   "language": "python",
   "name": "python3"
  },
  "language_info": {
   "codemirror_mode": {
    "name": "ipython",
    "version": 3
   },
   "file_extension": ".py",
   "mimetype": "text/x-python",
   "name": "python",
   "nbconvert_exporter": "python",
   "pygments_lexer": "ipython3",
   "version": "3.12.3"
  }
 },
 "nbformat": 4,
 "nbformat_minor": 2
}

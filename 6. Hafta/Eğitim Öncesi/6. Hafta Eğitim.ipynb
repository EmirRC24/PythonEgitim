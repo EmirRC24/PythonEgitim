{
 "cells": [
  {
   "cell_type": "markdown",
   "metadata": {},
   "source": [
    "# Modüller"
   ]
  },
  {
   "cell_type": "markdown",
   "metadata": {},
   "source": [
    "# Modül Mantığı\n",
    "\n",
    "Bir python modülünü programımıza dahil ederek bu modüller içinde yazılan fonksiyonlardan ve sınıflardan kullanılabilir ve programlarımızı daha efektif bir şekilde yazabiliriz. Eğer modül diye bir kavram olmasaydı, programlarımızdaki herbir fonksiyonu ve sınıfı kendimiz yazmak zorunda kalacaktık."
   ]
  },
  {
   "cell_type": "markdown",
   "metadata": {},
   "source": [
    "# Math Modülü"
   ]
  },
  {
   "cell_type": "code",
   "execution_count": 1,
   "metadata": {},
   "source": [
    "import math\n",
    "dir(math)"
   ],
   "outputs": []
  },
  {
   "cell_type": "code",
   "execution_count": 2,
   "metadata": {},
   "source": [
    "help(math)"
   ],
   "outputs": []
  },
  {
   "cell_type": "code",
   "execution_count": 3,
   "metadata": {},
   "source": [
    "math.factorial(5)"
   ],
   "outputs": []
  },
  {
   "cell_type": "code",
   "execution_count": 4,
   "metadata": {},
   "source": [
    "math.e"
   ],
   "outputs": []
  },
  {
   "cell_type": "code",
   "execution_count": 5,
   "metadata": {},
   "source": [
    "math.floor(3.5)"
   ],
   "outputs": []
  },
  {
   "cell_type": "code",
   "execution_count": 6,
   "metadata": {},
   "source": [
    "math.floor(3.9)\n",
    "#Aşağı Yuvarlar"
   ],
   "outputs": []
  },
  {
   "cell_type": "code",
   "execution_count": 7,
   "metadata": {},
   "source": [
    "math.ceil(3.2) \n",
    "#Yukarı Yuvarlar"
   ],
   "outputs": []
  },
  {
   "cell_type": "markdown",
   "metadata": {},
   "source": [
    "from modül_adı import * ile kütüphanemizi kullanabiliriz."
   ]
  },
  {
   "cell_type": "code",
   "execution_count": 13,
   "metadata": {},
   "source": [
    "from math import *\n",
    "def factorial(sayi):\n",
    "    print(\"Kendi Faktöriyel Fonksiyonum\")\n",
    "    faktoriyel = 1\n",
    "    if(sayi == 0 or sayi == 1):\n",
    "        return 1\n",
    "    while(sayi >= 1):\n",
    "        faktoriyel *=sayi\n",
    "        sayi -=1\n",
    "    return faktoriyel\n",
    "factorial(5)\n",
    "\n"
   ],
   "outputs": []
  },
  {
   "cell_type": "markdown",
   "metadata": {},
   "source": [
    "# map Fonskiyonu\n",
    "\n",
    "Parametre olarak aldığı fonksiyona, parametre olarak aldığı listenin her elemanını sırasıyla parametre olarak gösterir.\n",
    "\n",
    "map(fonksiyon, iterasyon yapılabilecek veritipi(liste,demet vb), ....)"
   ]
  },
  {
   "cell_type": "code",
   "execution_count": 14,
   "metadata": {},
   "source": [
    "numbers = [2, 8, 16, 32, 64]\n",
    "powers = []\n",
    "def power(x):\n",
    "    return x**2\n",
    "powers = list(map(power, numbers))\n",
    "print(powers)"
   ],
   "outputs": []
  },
  {
   "cell_type": "code",
   "execution_count": 15,
   "metadata": {},
   "source": [
    "liste1 = [1,2,3,4]\n",
    "liste2 = [5,6,7,8]\n",
    "liste3 = [9,10,11,12,13]\n",
    "list(map(lambda x,y,z : x*y*z, liste1,liste2,liste3))"
   ],
   "outputs": []
  },
  {
   "cell_type": "markdown",
   "metadata": {},
   "source": [
    "# Filter Fonksiyonu\n",
    "\n",
    "İsminden de anlaşılacağı gibi filtreleme işlemi yapar.\n",
    "\n",
    "filter(fonksiyon, iterasyon yapılabilen bir veritipi(liste vb))"
   ]
  },
  {
   "cell_type": "code",
   "execution_count": 16,
   "metadata": {},
   "source": [
    "list(filter(lambda x : x % 2 == 0, [0,1,2,3,4,5,6,7,8,9,10]))"
   ],
   "outputs": []
  },
  {
   "cell_type": "code",
   "execution_count": 17,
   "metadata": {},
   "source": [
    "def asal_mi(sayi):\n",
    "    i = 2\n",
    "    if(sayi == 1):\n",
    "        return False\n",
    "    if (sayi == 2):\n",
    "        return True\n",
    "    else:\n",
    "        while i< sayi:\n",
    "            if(sayi % i == 0):\n",
    "                return False\n",
    "            i +=1\n",
    "    return True\n",
    "list(filter(asal_mi, range(1,100)))"
   ],
   "outputs": []
  },
  {
   "cell_type": "markdown",
   "metadata": {},
   "source": [
    "# zip Fonksiyonu"
   ]
  },
  {
   "cell_type": "code",
   "execution_count": 18,
   "metadata": {},
   "source": [
    "liste1 = [1,2,3,4]\n",
    "liste2 = [5,6,7,8]\n",
    "liste3 = [\"Pyhton\", \"Java\", \"C#\", \"Javascript\"]\n",
    "list(zip(liste1,liste2,liste3))"
   ],
   "outputs": []
  },
  {
   "cell_type": "code",
   "execution_count": 19,
   "metadata": {},
   "source": [
    "sozluk1 = {\"Elma\" : 1, \"Armut\" : 2, \"Kiraz\" : 3}\n",
    "sozluk2 = {\"Sıfır\" : 0, \"Bir\" : 1, \"İki\" : 2}\n",
    "list(zip(sozluk1,sozluk2))"
   ],
   "outputs": []
  },
  {
   "cell_type": "markdown",
   "metadata": {},
   "source": [
    "# enumarate()\n",
    "\n",
    "İngilizcede enumarate kelimesi \"numaralandırmak\" anlamına gelir. enumarate() fonksiyonunun görevi de kelimenin bu anlamıyla aynıdır. Yani bu fonksiyonu kullanarak nesneleri numaralandırabiliriz."
   ]
  },
  {
   "cell_type": "code",
   "execution_count": 20,
   "metadata": {},
   "source": [
    "liste = [\"Elma\", \"Armut\", \"Muz\", \"Kiraz\"]\n",
    "list(enumerate(liste))"
   ],
   "outputs": []
  },
  {
   "cell_type": "markdown",
   "metadata": {},
   "source": [
    "# all()\n",
    "\n",
    "all() fonksiyonu bütün değerler False ise False, en az b\n",
    "r değer True ise True sonuç döndürür."
   ]
  },
  {
   "cell_type": "code",
   "execution_count": 21,
   "metadata": {},
   "source": [
    "liste = [True, True, False]\n",
    "all(liste)"
   ],
   "outputs": []
  },
  {
   "cell_type": "markdown",
   "metadata": {},
   "source": [
    "# any()\n",
    "\n",
    "any() fonksiyonu bütün değerler False ise False, en az bir değer True ise True sonuç döndürür."
   ]
  },
  {
   "cell_type": "code",
   "execution_count": 23,
   "metadata": {},
   "source": [
    "liste = [True, True, False]\n",
    "any(liste)"
   ],
   "outputs": []
  },
  {
   "cell_type": "markdown",
   "metadata": {},
   "source": [
    "# Hata Yönetimi\n",
    "\n",
    "- Python programlarında bazen bir değişkenin tanımlanmasından kullanılmaya çalıştırılması, bazen de yapılamayacak bir aritmetik işlemin yapılması Pythonda hatalara yol açar. Ancak bu istisnai durumlarda, hataların türüne göre programlarımızı daha güvenli bir şekilde yazabiliriz. Yani hata çıkabilecek kodlarımızı öngörerek bu hataları programlarımızda yakalayabiliriz."
   ]
  },
  {
   "cell_type": "code",
   "execution_count": 1,
   "metadata": {},
   "source": [
    "print(a)"
   ],
   "outputs": []
  },
  {
   "cell_type": "code",
   "execution_count": 2,
   "metadata": {},
   "source": [
    "print(2/0)"
   ],
   "outputs": []
  },
  {
   "cell_type": "code",
   "execution_count": 3,
   "metadata": {},
   "source": [
    "print \"Merhaba\""
   ],
   "outputs": []
  },
  {
   "cell_type": "markdown",
   "metadata": {},
   "source": [
    "# try, except blokları\n",
    "\n",
    "try, except bloklarının yapısı şu şekildedir;\n",
    "\n",
    "    try:\n",
    "\n",
    "        Hata çıkarabilecek kodlar buraya yazılıyor.\n",
    "        Eğer hata çıkarsa program uygun olan except bloğuna girecek.\n",
    "        Hata oluşursa try bloğunun geri kalanındaki işlemler çalışmayacak.\n",
    "    except Hata1:\n",
    "        Hata1 oluştuğunda burası çalışacak.\n",
    "    except Hata2:\n",
    "        Hata2 oluştuğunda burası çalışacak."
   ]
  },
  {
   "cell_type": "code",
   "execution_count": 4,
   "metadata": {},
   "source": [
    "try:\n",
    "    a = int(\"abcd\")\n",
    "    print(\"Program burada\")\n",
    "except:\n",
    "    print(\"Hata oluştu.\")"
   ],
   "outputs": []
  },
  {
   "cell_type": "code",
   "execution_count": 5,
   "metadata": {},
   "source": [
    "try:\n",
    "    a = int(\"abcd\")\n",
    "except ValueError:\n",
    "    print(\"Hata Oluştu.\")\n",
    "print(\"Bloklar Sona Erdi.\")"
   ],
   "outputs": []
  },
  {
   "cell_type": "code",
   "execution_count": 6,
   "metadata": {},
   "source": [
    "try:\n",
    "    a = int(input(\"Sayı 1: \"))\n",
    "    b = int(input(\"Sayı 2: \"))\n",
    "    print(a / b)\n",
    "except ValueError :\n",
    "    print(\"Inputları doğru giriniz.\")\n",
    "except ZeroDivisionError :\n",
    "    print(\"Sayı 0'a bölünemez.\")\n"
   ],
   "outputs": []
  },
  {
   "cell_type": "code",
   "execution_count": 7,
   "metadata": {},
   "source": [
    "try:\n",
    "    a = int(input(\"Sayı 1: \"))\n",
    "    b = int(input(\"Sayı 2: \"))\n",
    "    print(a / b)\n",
    "except (ValueError,ZeroDivisionError) :\n",
    "    print(\"Value error ya da ZeroDivisionError\")\n"
   ],
   "outputs": []
  }
 ],
 "metadata": {
  "kernelspec": {
   "display_name": "Python 3",
   "language": "python",
   "name": "python3"
  },
  "language_info": {
   "codemirror_mode": {
    "name": "ipython",
    "version": 3
   },
   "file_extension": ".py",
   "mimetype": "text/x-python",
   "name": "python",
   "nbconvert_exporter": "python",
   "pygments_lexer": "ipython3",
   "version": "3.12.3"
  }
 },
 "nbformat": 4,
 "nbformat_minor": 2
}
